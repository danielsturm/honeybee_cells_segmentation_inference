{
 "cells": [
  {
   "cell_type": "code",
   "execution_count": 1,
   "id": "0561ccc1",
   "metadata": {},
   "outputs": [],
   "source": [
    "%load_ext autoreload\n",
    "%autoreload 2"
   ]
  },
  {
   "cell_type": "code",
   "execution_count": 2,
   "id": "95c28e5c",
   "metadata": {},
   "outputs": [],
   "source": [
    "#import importlib\n",
    "#from segmentation_restruct.background_img_generator.background_img_generator import BackgroundImageGenerator\n",
    "import segmentation_restruct.background_img_generator.background_img_generator as bg\n",
    "from pathlib import Path"
   ]
  },
  {
   "cell_type": "code",
   "execution_count": 7,
   "id": "8add7faa",
   "metadata": {},
   "outputs": [
    {
     "name": "stderr",
     "output_type": "stream",
     "text": [
      "0it [00:00, ?it/s]\n"
     ]
    }
   ],
   "source": [
    "#importlib.reload(bg)\n",
    "out_dir = Path().cwd().resolve().parent / \"data\" / \"output\"\n",
    "in_dir = out_dir.parent\n",
    "big = bg.BackgroundImageGenerator(source_path=in_dir, output_path=out_dir)"
   ]
  },
  {
   "cell_type": "code",
   "execution_count": 14,
   "id": "67d0f423",
   "metadata": {},
   "outputs": [
    {
     "name": "stdout",
     "output_type": "stream",
     "text": [
      "20240529T171449.980412.882Z.png\n"
     ]
    },
    {
     "name": "stderr",
     "output_type": "stream",
     "text": [
      "0it [00:00, ?it/s]\n"
     ]
    }
   ],
   "source": [
    "out_dir = Path(\"C:/Users/sturmd/Desktop/Bachelorarbeit/bee_data/20240529/cam-2\")\n",
    "big = bg.BackgroundImageGenerator(source_path=out_dir, output_path=out_dir)"
   ]
  }
 ],
 "metadata": {
  "kernelspec": {
   "display_name": "venv",
   "language": "python",
   "name": "python3"
  },
  "language_info": {
   "codemirror_mode": {
    "name": "ipython",
    "version": 3
   },
   "file_extension": ".py",
   "mimetype": "text/x-python",
   "name": "python",
   "nbconvert_exporter": "python",
   "pygments_lexer": "ipython3",
   "version": "3.12.4"
  }
 },
 "nbformat": 4,
 "nbformat_minor": 5
}
